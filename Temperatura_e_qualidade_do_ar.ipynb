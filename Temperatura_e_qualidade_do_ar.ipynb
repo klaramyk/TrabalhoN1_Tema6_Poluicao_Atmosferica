{
  "nbformat": 4,
  "nbformat_minor": 0,
  "metadata": {
    "colab": {
      "provenance": [],
      "authorship_tag": "ABX9TyO8T/KqQ2lN1OdB++FAElFx",
      "include_colab_link": true
    },
    "kernelspec": {
      "name": "python3",
      "display_name": "Python 3"
    },
    "language_info": {
      "name": "python"
    }
  },
  "cells": [
    {
      "cell_type": "markdown",
      "metadata": {
        "id": "view-in-github",
        "colab_type": "text"
      },
      "source": [
        "<a href=\"https://colab.research.google.com/github/klaramyk/TrabalhoN1_Tema6_Poluicao_Atmosferica/blob/leticia/Temperatura_e_qualidade_do_ar.ipynb\" target=\"_parent\"><img src=\"https://colab.research.google.com/assets/colab-badge.svg\" alt=\"Open In Colab\"/></a>"
      ]
    },
    {
      "cell_type": "code",
      "execution_count": null,
      "metadata": {
        "colab": {
          "base_uri": "https://localhost:8080/"
        },
        "id": "PpuCU8AfRc50",
        "outputId": "02adcd32-726e-40bf-8be7-9d2419afe927"
      },
      "outputs": [
        {
          "output_type": "stream",
          "name": "stdout",
          "text": [
            "Média da qualidade do ar: 22.5\n",
            "A qualidade do ar no dia 1 está acima da média.\n",
            "A qualidade do ar no dia 2 está acima da média.\n",
            "A qualidade do ar no dia 3 está abaixo da média.\n",
            "A qualidade do ar no dia 4 está acima da média.\n"
          ]
        }
      ],
      "source": [
        "\n",
        "# Definição dos dados de temperatura e qualidade do ar\n",
        "temperatura = [34, 31, 32, 31]\n",
        "qualidade_ar = [23, 23, 21, 23]\n",
        "\n",
        "# Calculando a média da qualidade do ar\n",
        "media_qualidade_ar = sum(qualidade_ar) / len(qualidade_ar)\n",
        "print(\"Média da qualidade do ar:\", media_qualidade_ar)\n",
        "\n",
        "# Verificando se a qualidade do ar está acima ou abaixo da média\n",
        "for indice, valor in enumerate(qualidade_ar):\n",
        "    if valor > media_qualidade_ar:\n",
        "        print(\"A qualidade do ar no dia\", indice+1, \"está acima da média.\")\n",
        "    elif valor < media_qualidade_ar:\n",
        "        print(\"A qualidade do ar no dia\", indice+1, \"está abaixo da média.\")\n",
        "    else:\n",
        "        print(\"A qualidade do ar no dia\", indice+1, \"está na média.\")"
      ]
    }
  ]
}
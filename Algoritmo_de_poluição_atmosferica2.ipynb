{
  "nbformat": 4,
  "nbformat_minor": 0,
  "metadata": {
    "colab": {
      "provenance": [],
      "authorship_tag": "ABX9TyOtVVVynYEgeVdlok/Es+do",
      "include_colab_link": true
    },
    "kernelspec": {
      "name": "python3",
      "display_name": "Python 3"
    },
    "language_info": {
      "name": "python"
    }
  },
  "cells": [
    {
      "cell_type": "markdown",
      "metadata": {
        "id": "view-in-github",
        "colab_type": "text"
      },
      "source": [
        "<a href=\"https://colab.research.google.com/github/klaramyk/TrabalhoN1_Tema6_Poluicao_Atmosferica/blob/gabriela/Algoritmo_de_polui%C3%A7%C3%A3o_atmosferica2.ipynb\" target=\"_parent\"><img src=\"https://colab.research.google.com/assets/colab-badge.svg\" alt=\"Open In Colab\"/></a>"
      ]
    },
    {
      "cell_type": "code",
      "execution_count": null,
      "metadata": {
        "id": "olCMA4KHYp0R"
      },
      "outputs": [],
      "source": [
        "#calculadora de concentração (24h)\n",
        "#monitoramento do poluente > relação com o padrão do CONAMA >calculo de indice >definição da qualidade > limpo x poluido\n",
        "\n",
        "#media= n1 + (indice final-indice inicial)/(concentracao final-concentracao inicial) *(concentracao medida- concentracao inicial)\n",
        "\n",
        "n1 = float( input (\"Digite o valor inicial do poluente: \"))\n",
        "n2 = float( input (\"Digite o valor final no momento x: \"))\n",
        "n3 = float( input (\"digite o valor inicial no momento x: \"))\n",
        "n4 = float( input (\"Digite o valor da concentração final no momento x: \"))\n",
        "n5 = float( input (\"Digite o valor da concentração inicial no momento x:  \") )\n",
        "\n",
        "\n",
        "\n"
      ]
    },
    {
      "cell_type": "code",
      "source": [
        "#Calculadora de IQAR para partículas inaláveis (491/ 2018 CONAMA)\n",
        "\n",
        "#índice = índice inicial + (índice final - Indice inicial/ concentração final - concentração inicial) * (concentração medida - concentração inicial)\n",
        "\n",
        "n1 = float(input (\"Digite o indice inicial do poluente em µg/m3: \"))\n",
        "n2 = float(input (\"Digite o indice final do poluente em µg/m3: \"))\n",
        "n3 = float(input (\"Digite a concentracao inicial do poluente em µg/m3: \"))\n",
        "n4 = float(input (\"Digite a concentração final do poluente em µg/m3: \"))\n",
        "n5 = float(input (\"Digite a concentração medida em µg/m3: \"))\n",
        "\n",
        "#Calculo em sí\n",
        "indice_qualidade_do_ar = n1 + ((n2 - n1)/ (n4 - n3)) * (n5-n1)\n",
        "resposta_indice= \"{:.2f}\".format(indice_qualidade_do_ar)\n",
        "\n",
        "if (indice_qualidade_do_ar) < 60:\n",
        "  print(\"Concentração saudável\")\n",
        "elif (indice_qualidade_do_ar) > 60.1 <= 80:\n",
        "  print(\"Concentração normal\")\n",
        "else:\n",
        "  print(\"Concentração acima do indicado\")\n",
        "\n",
        "\n",
        "\n"
      ],
      "metadata": {
        "colab": {
          "base_uri": "https://localhost:8080/"
        },
        "id": "vCqgv5oq_O8R",
        "outputId": "3237f49c-328a-4f9f-ddf4-2f78cba84d58"
      },
      "execution_count": 12,
      "outputs": [
        {
          "output_type": "stream",
          "name": "stdout",
          "text": [
            "Digite o indice inicial do poluente em µg/m3: 101\n",
            "Digite o indice final do poluente em µg/m3: 150\n",
            "Digite a concentracao inicial do poluente em µg/m3: 150\n",
            "Digite a concentração final do poluente em µg/m3: 200\n",
            "Digite a concentração medida em µg/m3: 180\n",
            "Concentração normal\n"
          ]
        }
      ]
    }
  ]
}
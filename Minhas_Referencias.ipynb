{
  "nbformat": 4,
  "nbformat_minor": 0,
  "metadata": {
    "colab": {
      "provenance": [],
      "authorship_tag": "ABX9TyNx5gAePbzRUVrYFckH4PdI",
      "include_colab_link": true
    },
    "kernelspec": {
      "name": "python3",
      "display_name": "Python 3"
    },
    "language_info": {
      "name": "python"
    }
  },
  "cells": [
    {
      "cell_type": "markdown",
      "metadata": {
        "id": "view-in-github",
        "colab_type": "text"
      },
      "source": [
        "<a href=\"https://colab.research.google.com/github/klaramyk/TrabalhoN1_Tema6_Poluicao_Atmosferica/blob/gabriela/Minhas_Referencias.ipynb\" target=\"_parent\"><img src=\"https://colab.research.google.com/assets/colab-badge.svg\" alt=\"Open In Colab\"/></a>"
      ]
    },
    {
      "cell_type": "code",
      "execution_count": null,
      "metadata": {
        "id": "lokSXnqFRiXE"
      },
      "outputs": [],
      "source": [
        "#Aqui estão as referências da minha pesquisa, essas, me ajudaram a montar meu algoritmo e embasar a ideia do meu grupo.\n",
        "\n",
        "https://youtu.be/Kd5fM_lyJ3w?si=wTcsdjq4xSpd9ICD\n",
        "https://slideplayer.com.br/slide/2532358/"
      ]
    }
  ]
}
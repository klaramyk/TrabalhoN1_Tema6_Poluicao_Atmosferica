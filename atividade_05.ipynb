{
  "nbformat": 4,
  "nbformat_minor": 0,
  "metadata": {
    "colab": {
      "provenance": [],
      "authorship_tag": "ABX9TyPclvfv7ZY3SOFPYcasaSfM",
      "include_colab_link": true
    },
    "kernelspec": {
      "name": "python3",
      "display_name": "Python 3"
    },
    "language_info": {
      "name": "python"
    }
  },
  "cells": [
    {
      "cell_type": "markdown",
      "metadata": {
        "id": "view-in-github",
        "colab_type": "text"
      },
      "source": [
        "<a href=\"https://colab.research.google.com/github/klaramyk/TrabalhoN1_Tema6_Poluicao_Atmosferica/blob/lara/atividade_05.ipynb\" target=\"_parent\"><img src=\"https://colab.research.google.com/assets/colab-badge.svg\" alt=\"Open In Colab\"/></a>"
      ]
    },
    {
      "cell_type": "code",
      "execution_count": 10,
      "metadata": {
        "colab": {
          "base_uri": "https://localhost:8080/"
        },
        "id": "wOyxXgO8X9Ky",
        "outputId": "fa149ac0-bca7-42e6-b222-8ff868280f34"
      },
      "outputs": [
        {
          "output_type": "stream",
          "name": "stdout",
          "text": [
            "Emissões de NOx por Tipo de Veiculo (em g/km):\n",
            "carro a gasolina : 0.2 g/km\n",
            "caro a diesel : 0.8 g/km\n",
            "moto : 0.15 g/km\n",
            "ônibus : 1.5 g/km\n",
            "caminhão : 2.0 g/km\n",
            "Emissões Diarias Totais de NOx por Tipo de Veículo (em g):\n",
            "carro a gasolina: 8.0 g\n",
            "caro a diesel: 48.0 g\n",
            "moto: 3.8 g\n",
            "ônibus: 120.0 g\n",
            "caminhão: 200.0 g\n",
            "Impacto na Qualidade do Ar por Tipo de Veículo (em aumento do índice de poluição):\n",
            "carro a gasolina:  0.8 aumentodo índice de poluição\n",
            "caro a diesel:  4.8 aumentodo índice de poluição\n",
            "moto:  0.4 aumentodo índice de poluição\n",
            "ônibus:  12.0 aumentodo índice de poluição\n",
            "caminhão:  20.0 aumentodo índice de poluição\n"
          ]
        }
      ],
      "source": [
        "# Definir os tipos de veículos e suas respectivas emissões de NOx (em g/km)\n",
        "veiculos= ['carro a gasolina', 'caro a diesel', 'moto', 'ônibus', 'caminhão']\n",
        "emissoes_nox= (0.2, 0.8, 0.15, 1.5, 2.0) #exemplo de dados em g/km\n",
        "\n",
        "# Definir a quantidade média de km percorridos por dia por cada tipo de veículo em Natal/RN\n",
        "# Dados aproximados baseados em hábitos de transporte urbano\n",
        "km_percorridos= [40, 60, 25, 80, 100] #exemplo de dados em km\n",
        "\n",
        "# Calcular as emissões diárias totais de NOx para cada tipo de veículo\n",
        "emissoes_diarias_nox= [emissão * km for emissão, km in zip(emissoes_nox, km_percorridos)]\n",
        "\n",
        "# Calcular o impacto na qualidade do ar (hipotético: alta emissão => maior impacto)\n",
        "# Vamos supor que cada grama de NOx aumenta o indice de poluição do ar em 0.1\n",
        "impacto_qualidade_ar= [emissao * 0.1 for emissao in emissoes_diarias_nox]\n",
        "\n",
        "# Imprimir as emissões de NOx por tipo de veículo\n",
        "print(\"Emissões de NOx por Tipo de Veiculo (em g/km):\")\n",
        "for veiculo, emissao in zip(veiculos, emissoes_nox):\n",
        "  print(f\"{veiculo} : {emissao} g/km\")\n",
        "\n",
        "# Imprimir as emissões diárias totais de NOx por tipo de veículo\n",
        "print(\"Emissões Diarias Totais de NOx por Tipo de Veículo (em g):\" )\n",
        "for veiculo, emissao_diaria in zip(veiculos, emissoes_diarias_nox):\n",
        "  print(f\"{veiculo}: {emissao_diaria:.1f} g\")\n",
        "\n",
        "# Imprimir o impacto na qualidade do ar por tipo de veículo\n",
        "print(\"Impacto na Qualidade do Ar por Tipo de Veículo (em aumento do índice de poluição):\")\n",
        "for veiculo, impacto in zip(veiculos, impacto_qualidade_ar):\n",
        "  print(f\"{veiculo}: {impacto: .1f} aumentodo índice de poluição\")\n"
      ]
    }
  ]
}
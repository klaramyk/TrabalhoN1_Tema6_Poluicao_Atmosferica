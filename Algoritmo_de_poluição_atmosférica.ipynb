{
  "nbformat": 4,
  "nbformat_minor": 0,
  "metadata": {
    "colab": {
      "provenance": [],
      "authorship_tag": "ABX9TyNxQhCkUsFy7+TKMeLvF8zB",
      "include_colab_link": true
    },
    "kernelspec": {
      "name": "python3",
      "display_name": "Python 3"
    },
    "language_info": {
      "name": "python"
    }
  },
  "cells": [
    {
      "cell_type": "markdown",
      "metadata": {
        "id": "view-in-github",
        "colab_type": "text"
      },
      "source": [
        "<a href=\"https://colab.research.google.com/github/klaramyk/TrabalhoN1_Tema6_Poluicao_Atmosferica/blob/gabriela/Algoritmo_de_polui%C3%A7%C3%A3o_atmosf%C3%A9rica.ipynb\" target=\"_parent\"><img src=\"https://colab.research.google.com/assets/colab-badge.svg\" alt=\"Open In Colab\"/></a>"
      ]
    },
    {
      "cell_type": "markdown",
      "source": [
        "#Poluição atmosférica\n",
        "Qualquer forma de matéria/energia com intensidade, caracteristicas e concentração que tornam o ar impróprio. Particulas que se acumulam a niveis elevados que afetam a saúde humana e ecossistemas."
      ],
      "metadata": {
        "id": "aB0P6lFjib4e"
      }
    },
    {
      "cell_type": "code",
      "execution_count": 1,
      "metadata": {
        "colab": {
          "base_uri": "https://localhost:8080/",
          "height": 211
        },
        "id": "8rAWRmYpiNFV",
        "outputId": "06db65cb-fd66-4124-e1e4-c144f25d9dfc"
      },
      "outputs": [
        {
          "name": "stdout",
          "output_type": "stream",
          "text": [
            "Concentração do poluente\n",
            "Digite um número: 1\n"
          ]
        },
        {
          "output_type": "error",
          "ename": "NameError",
          "evalue": "name 'poluente' is not defined",
          "traceback": [
            "\u001b[0;31m---------------------------------------------------------------------------\u001b[0m",
            "\u001b[0;31mNameError\u001b[0m                                 Traceback (most recent call last)",
            "\u001b[0;32m<ipython-input-1-21222c1dc1cd>\u001b[0m in \u001b[0;36m<cell line: 4>\u001b[0;34m()\u001b[0m\n\u001b[1;32m      3\u001b[0m \u001b[0;34m\u001b[0m\u001b[0m\n\u001b[1;32m      4\u001b[0m \u001b[0;32mfor\u001b[0m \u001b[0mnumero\u001b[0m \u001b[0;32min\u001b[0m \u001b[0mrange\u001b[0m\u001b[0;34m(\u001b[0m\u001b[0;36m1\u001b[0m\u001b[0;34m,\u001b[0m \u001b[0mconc_de_poluente\u001b[0m\u001b[0;34m+\u001b[0m\u001b[0;36m1\u001b[0m\u001b[0;34m)\u001b[0m\u001b[0;34m:\u001b[0m\u001b[0;34m\u001b[0m\u001b[0;34m\u001b[0m\u001b[0m\n\u001b[0;32m----> 5\u001b[0;31m   \u001b[0mprint\u001b[0m\u001b[0;34m(\u001b[0m\u001b[0;34mf\"\\nPoluente {poluente}1:\"\u001b[0m\u001b[0;34m)\u001b[0m\u001b[0;34m\u001b[0m\u001b[0;34m\u001b[0m\u001b[0m\n\u001b[0m",
            "\u001b[0;31mNameError\u001b[0m: name 'poluente' is not defined"
          ]
        }
      ],
      "source": [
        "print(\"Concentração do poluente\")\n",
        "conc_de_poluente = int(input(\"Digite um número: \"))\n",
        "\n",
        "for numero in range(1, conc_de_poluente+1):\n",
        "  print(f\"\\nPoluente {poluente}1:\")\n",
        "\n",
        "n1 = float( input (\"Digite a concentracao de O3  (Com peso 1): \"))\n",
        "n2 = float( input (\"Digite a concentracao de SO2  (Com peso 1): \"))\n",
        "n3 = float( input (\"Digite a concentracao de CO  (Com peso 1): \"))\n",
        "n4 = float( input (\"Digite a concentracao de PM10  (Com peso 1): \"))\n",
        "n5 = float( input (\"Digite a concentracao de PM2.5  (Com peso 1): \"))\n",
        "n6 = float( input (\"Digite a concentracao de NOx  (Com peso 1): \"))\n",
        "\n",
        "media = (n1/i) * 1\n",
        "#Descobrir como fazer para que ele calcule todas as médias e multiplique todas com mesmo peso."
      ]
    },
    {
      "cell_type": "markdown",
      "source": [
        "partículas suspensas (PM10, PM2.5)\n",
        "óxidos de nitrogênio (NOx)\n",
        "ozônio (O3)\n",
        "dióxido de enxofre (SO2)\n",
        "monóxido de carbono (CO)\n",
        "compostos orgânicos voláteis (COVs) e outras substâncias químicas.\n",
        "\n"
      ],
      "metadata": {
        "id": "H8XTRPvtYXAr"
      }
    }
  ]
}